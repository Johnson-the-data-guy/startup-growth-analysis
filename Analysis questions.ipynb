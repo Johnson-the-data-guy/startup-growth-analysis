{
 "cells": [
  {
   "cell_type": "markdown",
   "id": "8d115b69-7b9d-476e-b466-712b54f89a16",
   "metadata": {},
   "source": [
    "### Questions That Can Be Asked from the Startup Dataset  \n",
    "    Dataset Contains the Following Information:  "
   ]
  },
  {
   "cell_type": "markdown",
   "id": "e143abb7-2ef2-46df-8c47-168099b292fb",
   "metadata": {},
   "source": [
    "           1.Startup Industry  \n",
    "           2.Funding Rounds  \n",
    "           3.Investment Amount (USD)\n",
    "           4.Valuation (USD)\n",
    "           5.Number of Investors\n",
    "           6.Country\n",
    "           7.Year Founded\n",
    "           8.Growth Rate (%)\n",
    "\n"
   ]
  },
  {
   "cell_type": "markdown",
   "id": "742c0588-3e40-47d2-8ee9-54713c7693c6",
   "metadata": {},
   "source": [
    "### Key Questions for Analysis:"
   ]
  },
  {
   "cell_type": "markdown",
   "id": "840d898c-bbd0-43ac-a18d-728d38181f0c",
   "metadata": {},
   "source": [
    "#### Industry & Investment Analysis"
   ]
  },
  {
   "cell_type": "markdown",
   "id": "c359aca2-321d-4e5f-ad98-e98d8d050fa2",
   "metadata": {},
   "source": [
    "     1.Which industry attracts the most investment?\n",
    "     2.What industry has the highest average growth rate?\n",
    "     3.Which industries require fewer funding rounds to achieve high valuations?\n",
    "     4.Which industry has the most investors?"
   ]
  },
  {
   "cell_type": "markdown",
   "id": "dd10d53b-1a45-443c-a8a2-a7730a32c1b8",
   "metadata": {},
   "source": [
    "#### Geographical Trends"
   ]
  },
  {
   "cell_type": "markdown",
   "id": "43d566cc-2e9d-4904-a724-1fd0e4d30efb",
   "metadata": {},
   "source": [
    "     1.Which countries have the most well-funded startups?\n",
    "     2.What are the most common startup types in different countries?\n",
    "     3.Does the country affect the growth rate of startups?\n",
    "     4.How does startup valuation vary across different countries?"
   ]
  },
  {
   "cell_type": "markdown",
   "id": "ccea306a-3eca-4dca-85e2-008c68fccf67",
   "metadata": {},
   "source": [
    "#### Funding & Growth Correlations"
   ]
  },
  {
   "cell_type": "markdown",
   "id": "b4634c0b-cf52-47c8-9f81-5091aa979923",
   "metadata": {},
   "source": [
    "     1.How does funding amount impact startup valuation?\n",
    "     2.Does the amount of investment affect the growth rate?\n",
    "     3.Does the number of investors influence startup growth?\n",
    "     4.Does the year a startup was founded affect its growth rate?"
   ]
  },
  {
   "cell_type": "markdown",
   "id": "64fc4d13-11a9-485a-ad42-b0e70f88b27d",
   "metadata": {},
   "source": [
    "#### Comparative & Predictive Insights"
   ]
  },
  {
   "cell_type": "markdown",
   "id": "3652029b-765e-41b8-8ee4-46c6363fb7d6",
   "metadata": {},
   "source": [
    "    1.What are the characteristics of the most successful startups?\n",
    "    2.Can we predict a startup’s valuation based on funding, industry, and growth rate?\n",
    "    3.Which startups are on track to become unicorns ($1B+ valuation)?"
   ]
  },
  {
   "cell_type": "code",
   "execution_count": null,
   "id": "0141e4a6-f3de-4bd7-bfbd-45fc898cb758",
   "metadata": {},
   "outputs": [],
   "source": []
  }
 ],
 "metadata": {
  "kernelspec": {
   "display_name": "Python 3 (ipykernel)",
   "language": "python",
   "name": "python3"
  },
  "language_info": {
   "codemirror_mode": {
    "name": "ipython",
    "version": 3
   },
   "file_extension": ".py",
   "mimetype": "text/x-python",
   "name": "python",
   "nbconvert_exporter": "python",
   "pygments_lexer": "ipython3",
   "version": "3.12.7"
  }
 },
 "nbformat": 4,
 "nbformat_minor": 5
}
